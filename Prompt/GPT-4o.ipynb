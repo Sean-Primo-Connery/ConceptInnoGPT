{
 "cells": [
  {
   "cell_type": "code",
   "execution_count": null,
   "id": "initial_id",
   "metadata": {
    "collapsed": true
   },
   "outputs": [],
   "source": [
    "from langchain.prompts import (\n",
    "    ChatPromptTemplate,\n",
    "    SystemMessagePromptTemplate,\n",
    "    HumanMessagePromptTemplate,\n",
    ")\n",
    "from langchain.output_parsers import PydanticOutputParser\n",
    "from pydantic import BaseModel, Field\n",
    "from typing import List"
   ]
  },
  {
   "metadata": {},
   "cell_type": "code",
   "outputs": [],
   "execution_count": null,
   "source": [
    "class FunctionalModule(BaseModel):\n",
    "    module_name: str = Field(title=\"Module Name\", description=\"The Name of the functional module.\")\n",
    "    description: str = Field(title=\"Description\", description=\"A detailed description of the functional module, including the working principles, functions, and purposes of the module.\")\n",
    "    applied_technologies: List[str] = Field(title=\"Applied Technologies\", description=\"The List of Relevant Technologies represented by classification codes (CPC) that are applied in the functional module.\")\n",
    "\n",
    "class CSResponse(BaseModel):\n",
    "    title: str = Field(title=\"Title\", description=\"A concise title that summarizes the Conceptual Solution, providing a clear overview of the solution's core functions and purposes. Retain only essential details.\")\n",
    "    description: str = Field(title=\"Description\", description=\"A detailed description of the conceptual solution includes an overall functional overview, and the primary functions and purposes of each functional module. Retain only the core details and present the content in a single paragraph.\")\n",
    "    functional_modules: List[FunctionalModule]\n",
    "\n",
    "CS_output_parser = PydanticOutputParser(pydantic_object=CSResponse)\n",
    "CS_format_instructions = CS_output_parser.get_format_instructions()\n",
    "\n",
    "CS_system_prompt = SystemMessagePromptTemplate.from_template(\n",
    "        \"You are a conceptual design expert specializing in designing conceptual solutions based on design requirements. You must return a valid JSON format response.\")\n",
    "CS_requirement = \"\"\"\n",
    "    Task: Design the conceptual solution based on the Design Requirement.\n",
    "\n",
    "    ## Design Requirement\n",
    "    {requirement}\n",
    "\n",
    "    {CS_format_instructions}\n",
    "    \"\"\"\n",
    "CS_human_prompt = HumanMessagePromptTemplate.from_template(CS_requirement)\n",
    "CS_prompt = ChatPromptTemplate.from_messages([CS_system_prompt, CS_human_prompt])"
   ],
   "id": "fa47189d002cb5c9"
  }
 ],
 "metadata": {
  "kernelspec": {
   "display_name": "Python 3",
   "language": "python",
   "name": "python3"
  },
  "language_info": {
   "codemirror_mode": {
    "name": "ipython",
    "version": 2
   },
   "file_extension": ".py",
   "mimetype": "text/x-python",
   "name": "python",
   "nbconvert_exporter": "python",
   "pygments_lexer": "ipython2",
   "version": "2.7.6"
  }
 },
 "nbformat": 4,
 "nbformat_minor": 5
}
