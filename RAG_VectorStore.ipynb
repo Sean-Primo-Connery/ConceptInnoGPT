{
 "cells": [
  {
   "cell_type": "code",
   "execution_count": 1,
   "id": "initial_id",
   "metadata": {
    "collapsed": true,
    "ExecuteTime": {
     "end_time": "2024-11-07T09:25:05.344766Z",
     "start_time": "2024-11-07T09:25:03.882363Z"
    }
   },
   "outputs": [],
   "source": [
    "import os\n",
    "\n",
    "from datasets import Dataset\n",
    "from langchain.text_splitter import TokenTextSplitter\n",
    "from langchain_core.documents import Document\n",
    "from langchain_community.vectorstores.faiss import FAISS\n",
    "from langchain_openai import OpenAIEmbeddings\n",
    "from tqdm import tqdm, trange"
   ]
  },
  {
   "cell_type": "markdown",
   "source": [
    "## 0. 数据集样本\n",
    "### 0.0 加载数据集"
   ],
   "metadata": {
    "collapsed": false
   },
   "id": "28bfb6eb3f588b7e"
  },
  {
   "cell_type": "code",
   "execution_count": 2,
   "outputs": [
    {
     "data": {
      "text/plain": "Dataset({\n    features: ['Publication Number', 'Title', 'Abstract', 'Claims', 'Publication Date', 'CPC', 'Novelty', 'Purpose', 'Advantage', 'Patentee', 'Inventor', 'UPC', 'Cited Number', 'Citing Number', 'Family Number', 'Strategic Importance', 'Field Importance', 'Comprehensive Importance'],\n    num_rows: 55120\n})"
     },
     "execution_count": 2,
     "metadata": {},
     "output_type": "execute_result"
    }
   ],
   "source": [
    "patent_data = Dataset.load_from_disk('/Users/xiaoen/Documents/科研/论文/GraphRAG/Code/DataDeal/PatentDataset')\n",
    "patent_data"
   ],
   "metadata": {
    "collapsed": false,
    "ExecuteTime": {
     "end_time": "2024-11-07T09:25:05.380669Z",
     "start_time": "2024-11-07T09:25:05.344451Z"
    }
   },
   "id": "d837411feedb0c30"
  },
  {
   "cell_type": "code",
   "execution_count": 3,
   "outputs": [
    {
     "data": {
      "text/plain": "Dataset({\n    features: ['level', 'symbol', 'classification', 'parent', 'children'],\n    num_rows: 262609\n})"
     },
     "execution_count": 3,
     "metadata": {},
     "output_type": "execute_result"
    }
   ],
   "source": [
    "cpc_data = Dataset.load_from_disk('/Users/xiaoen/Documents/科研/论文/GraphRAG/Code/DataDeal/CPC_info')\n",
    "cpc_data"
   ],
   "metadata": {
    "collapsed": false,
    "ExecuteTime": {
     "end_time": "2024-11-07T09:25:05.440320Z",
     "start_time": "2024-11-07T09:25:05.377791Z"
    }
   },
   "id": "8292247bd27dca76"
  },
  {
   "cell_type": "code",
   "execution_count": 4,
   "outputs": [
    {
     "name": "stderr",
     "output_type": "stream",
     "text": [
      "100%|██████████| 262609/262609 [00:12<00:00, 21143.78it/s]\n"
     ]
    }
   ],
   "source": [
    "cpc_dict = {}\n",
    "for i in trange(len(cpc_data)):\n",
    "    cpc_dict[cpc_data[i][\"symbol\"]] = cpc_data[i][\"classification\"]"
   ],
   "metadata": {
    "collapsed": false,
    "ExecuteTime": {
     "end_time": "2024-11-07T09:25:17.849362Z",
     "start_time": "2024-11-07T09:25:05.422532Z"
    }
   },
   "id": "69be4d669eb438c5"
  },
  {
   "cell_type": "markdown",
   "source": [
    "### 0.1 Title-Patent数据集"
   ],
   "metadata": {
    "collapsed": false
   },
   "id": "72b4397275a9572d"
  },
  {
   "cell_type": "code",
   "execution_count": 5,
   "outputs": [
    {
     "name": "stderr",
     "output_type": "stream",
     "text": [
      "100%|██████████| 55120/55120 [00:09<00:00, 5865.83it/s]\n"
     ]
    }
   ],
   "source": [
    "title_patent_data = {}\n",
    "for i in trange(len(patent_data)):\n",
    "    title_patent_data[patent_data[i][\"Publication Number\"]] = patent_data[i]['Title']"
   ],
   "metadata": {
    "collapsed": false,
    "ExecuteTime": {
     "end_time": "2024-11-07T09:25:27.255446Z",
     "start_time": "2024-11-07T09:25:17.852479Z"
    }
   },
   "id": "eb7850d81adb1155"
  },
  {
   "cell_type": "markdown",
   "source": [
    "### 0.2 Abstract-Patent数据集"
   ],
   "metadata": {
    "collapsed": false
   },
   "id": "e80d73cd53163a6d"
  },
  {
   "cell_type": "code",
   "execution_count": 6,
   "outputs": [
    {
     "name": "stderr",
     "output_type": "stream",
     "text": [
      "100%|██████████| 55120/55120 [00:08<00:00, 6181.47it/s]\n"
     ]
    }
   ],
   "source": [
    "abstract_patent_data = {}\n",
    "for i in trange(len(patent_data)):\n",
    "    abstract_patent_data[patent_data[i][\"Publication Number\"]] = patent_data[i]['Abstract']"
   ],
   "metadata": {
    "collapsed": false,
    "ExecuteTime": {
     "end_time": "2024-11-07T09:25:36.179907Z",
     "start_time": "2024-11-07T09:25:27.257864Z"
    }
   },
   "id": "2342b1720f8b6df6"
  },
  {
   "cell_type": "markdown",
   "source": [
    "### 0.3 CPC-Interpretation数据集"
   ],
   "metadata": {
    "collapsed": false
   },
   "id": "eab0dff563acda85"
  },
  {
   "cell_type": "code",
   "execution_count": 7,
   "outputs": [
    {
     "name": "stderr",
     "output_type": "stream",
     "text": [
      "100%|██████████| 55120/55120 [00:04<00:00, 12547.03it/s]\n"
     ]
    }
   ],
   "source": [
    "all_cpc = []\n",
    "for i in trange(len(patent_data)):\n",
    "    all_cpc.extend(patent_data[i]['CPC'])"
   ],
   "metadata": {
    "collapsed": false,
    "ExecuteTime": {
     "end_time": "2024-11-07T09:25:40.582072Z",
     "start_time": "2024-11-07T09:25:36.183247Z"
    }
   },
   "id": "94b3aa3c996b4da8"
  },
  {
   "cell_type": "code",
   "execution_count": 8,
   "outputs": [],
   "source": [
    "all_cpc = list(set(all_cpc))\n",
    "cpc_interpretation = {}\n",
    "for cpc in all_cpc:\n",
    "    try:\n",
    "        cpc_interpretation[cpc] = cpc_dict[cpc]\n",
    "    except:\n",
    "        pass"
   ],
   "metadata": {
    "collapsed": false,
    "ExecuteTime": {
     "end_time": "2024-11-07T09:25:40.649107Z",
     "start_time": "2024-11-07T09:25:40.647908Z"
    }
   },
   "id": "d45c2b4c6469a44f"
  },
  {
   "cell_type": "markdown",
   "source": [
    "## 1. 构建向量存储\n",
    "### 1.0 准备环境"
   ],
   "metadata": {
    "collapsed": false
   },
   "id": "e0ad5029e089580a"
  },
  {
   "cell_type": "code",
   "execution_count": 9,
   "outputs": [],
   "source": "os.environ[\"OPENAI_API_KEY\"] = \"XXXX\"",
   "metadata": {
    "collapsed": false,
    "ExecuteTime": {
     "end_time": "2024-11-07T09:25:40.655761Z",
     "start_time": "2024-11-07T09:25:40.650275Z"
    }
   },
   "id": "12ca19112a31c2e9"
  },
  {
   "cell_type": "code",
   "execution_count": 10,
   "outputs": [],
   "source": [
    "embedding_model = OpenAIEmbeddings(model='text-embedding-3-large', dimensions=1024)"
   ],
   "metadata": {
    "collapsed": false,
    "ExecuteTime": {
     "end_time": "2024-11-07T09:25:40.679215Z",
     "start_time": "2024-11-07T09:25:40.651828Z"
    }
   },
   "id": "16202f39c37cc3c6"
  },
  {
   "cell_type": "markdown",
   "source": [
    "### 1.1 生成向量存储"
   ],
   "metadata": {
    "collapsed": false
   },
   "id": "c4def3617738894"
  },
  {
   "cell_type": "code",
   "execution_count": 11,
   "outputs": [],
   "source": [
    "def get_text_embedding(data_dict, batch_size):\n",
    "    sources = list(data_dict.keys())\n",
    "    texts = list(data_dict.values())\n",
    "    \n",
    "    meta_datas = [{'source': source} for source in sources]\n",
    "    emb_vectors = []\n",
    "    for b in trange(0, len(texts), batch_size):\n",
    "        emb_vectors.extend(embedding_model.embed_documents(texts[b:b+batch_size]))\n",
    "    \n",
    "    return zip(texts, emb_vectors), meta_datas"
   ],
   "metadata": {
    "collapsed": false,
    "ExecuteTime": {
     "end_time": "2024-11-07T09:25:40.686882Z",
     "start_time": "2024-11-07T09:25:40.679946Z"
    }
   },
   "id": "2850877c50b6d0f2"
  },
  {
   "cell_type": "code",
   "execution_count": 12,
   "outputs": [],
   "source": [
    "def save_vectorstore(data_dict, vectorstore_name, batch_size=32):\n",
    "    data, meta_datas = get_text_embedding(data_dict, batch_size)\n",
    "    vectorstore = FAISS.from_embeddings(data, embedding_model, metadatas=meta_datas)\n",
    "    vectorstore.save_local(vectorstore_name)\n",
    "    return vectorstore"
   ],
   "metadata": {
    "collapsed": false,
    "ExecuteTime": {
     "end_time": "2024-11-07T09:25:40.687096Z",
     "start_time": "2024-11-07T09:25:40.682864Z"
    }
   },
   "id": "e5d6438dc09f3bd4"
  },
  {
   "cell_type": "code",
   "execution_count": 13,
   "outputs": [
    {
     "name": "stderr",
     "output_type": "stream",
     "text": [
      "100%|██████████| 54/54 [01:56<00:00,  2.15s/it]\n"
     ]
    }
   ],
   "source": [
    "vs = save_vectorstore(cpc_interpretation, 'cpc_interpretation', batch_size=512)"
   ],
   "metadata": {
    "collapsed": false,
    "ExecuteTime": {
     "end_time": "2024-11-07T09:27:38.800048Z",
     "start_time": "2024-11-07T09:25:40.690907Z"
    }
   },
   "id": "311242a7dcb38b99"
  },
  {
   "cell_type": "code",
   "execution_count": 14,
   "outputs": [
    {
     "name": "stderr",
     "output_type": "stream",
     "text": [
      "100%|██████████| 108/108 [03:12<00:00,  1.78s/it]\n"
     ]
    }
   ],
   "source": [
    "vs_title = save_vectorstore(title_patent_data, 'title_patent', batch_size=512)"
   ],
   "metadata": {
    "collapsed": false,
    "ExecuteTime": {
     "end_time": "2024-11-07T09:30:57.875645Z",
     "start_time": "2024-11-07T09:27:38.798833Z"
    }
   },
   "id": "56648976107076e5"
  },
  {
   "cell_type": "code",
   "execution_count": 15,
   "outputs": [
    {
     "name": "stderr",
     "output_type": "stream",
     "text": [
      "100%|██████████| 108/108 [08:58<00:00,  4.98s/it]\n"
     ]
    }
   ],
   "source": [
    "vs_abstract = save_vectorstore(abstract_patent_data, 'abstract_patent', batch_size=512)"
   ],
   "metadata": {
    "collapsed": false,
    "ExecuteTime": {
     "end_time": "2024-11-07T09:40:03.069935Z",
     "start_time": "2024-11-07T09:30:57.874234Z"
    }
   },
   "id": "91e0bd997cde0b0e"
  },
  {
   "cell_type": "code",
   "execution_count": 16,
   "outputs": [],
   "source": [
    "vs = FAISS.load_local('abstract_patent',embedding_model,allow_dangerous_deserialization=True)"
   ],
   "metadata": {
    "collapsed": false,
    "ExecuteTime": {
     "end_time": "2024-11-07T09:40:03.406499Z",
     "start_time": "2024-11-07T09:40:03.068560Z"
    }
   },
   "id": "cac0a475046c6364"
  },
  {
   "cell_type": "code",
   "execution_count": 17,
   "outputs": [
    {
     "data": {
      "text/plain": "[(Document(metadata={'source': 'US20210300350A1'}, page_content='A vehicle control device includes a recognizer configured to recognize an object near a vehicle, a generator configured to generate one or more target trajectories, along which the vehicle travels, on the basis of the object, and a driving controller configured to automatically control driving of the vehicle on the basis of the target trajectories. The generator calculates a travelable area, which is an area where the vehicle is able to travel, on the basis of a state of the object, and excludes a target trajectory outside the calculated travelable area from the one or more generated target trajectories, and the driving controller automatically controls the driving of the vehicle on the basis of the target trajectory that remains without being excluded by the generator.'),\n  0.7066597),\n (Document(metadata={'source': 'US20200117916A1'}, page_content='According to an embodiment, a system receives a captured image perceiving one or more lane markers surrounding the ADV from an image capturing device of the ADV. The system detects one or more continuous lane lines based on the one or more lane markers in the captured image by applying a machine learning model to the captured image, where the machine learning model includes a number of layers of nodes and the machine learning model includes a weighted softmax cross-entropy loss within at least one of the layers in training. The system generates a trajectory based on the one or more continuous (e.g., whole) lane lines to control the ADV autonomously according to the trajectory.'),\n  0.7112609)]"
     },
     "execution_count": 17,
     "metadata": {},
     "output_type": "execute_result"
    }
   ],
   "source": [
    "vs.similarity_search_with_score(\"Use image recognition to control vehicle travel trajectory\", k=2)"
   ],
   "metadata": {
    "collapsed": false,
    "ExecuteTime": {
     "end_time": "2024-11-07T09:40:05.037609Z",
     "start_time": "2024-11-07T09:40:03.408468Z"
    }
   },
   "id": "ee543cee2cc50625"
  }
 ],
 "metadata": {
  "kernelspec": {
   "display_name": "Python 3",
   "language": "python",
   "name": "python3"
  },
  "language_info": {
   "codemirror_mode": {
    "name": "ipython",
    "version": 2
   },
   "file_extension": ".py",
   "mimetype": "text/x-python",
   "name": "python",
   "nbconvert_exporter": "python",
   "pygments_lexer": "ipython2",
   "version": "2.7.6"
  }
 },
 "nbformat": 4,
 "nbformat_minor": 5
}
