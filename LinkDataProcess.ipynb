{
 "cells": [
  {
   "cell_type": "code",
   "execution_count": 1,
   "id": "initial_id",
   "metadata": {
    "collapsed": true,
    "ExecuteTime": {
     "end_time": "2024-11-07T09:41:26.107602Z",
     "start_time": "2024-11-07T09:41:25.030098Z"
    }
   },
   "outputs": [],
   "source": [
    "from datasets import Dataset\n",
    "import random\n",
    "from tqdm import tqdm\n",
    "import math"
   ]
  },
  {
   "cell_type": "code",
   "execution_count": 2,
   "outputs": [],
   "source": [
    "random.seed(64)"
   ],
   "metadata": {
    "collapsed": false,
    "ExecuteTime": {
     "end_time": "2024-11-07T09:41:26.108351Z",
     "start_time": "2024-11-07T09:41:26.087562Z"
    }
   },
   "id": "d3154519a942192f"
  },
  {
   "cell_type": "code",
   "execution_count": 3,
   "outputs": [],
   "source": [
    "patent_path = \"/Users/xiaoen/Documents/科研/论文/GraphRAG/Code/DataDeal/PatentDataset\""
   ],
   "metadata": {
    "collapsed": false,
    "ExecuteTime": {
     "end_time": "2024-11-07T09:41:26.108437Z",
     "start_time": "2024-11-07T09:41:26.093517Z"
    }
   },
   "id": "a0c9960544167b6b"
  },
  {
   "cell_type": "code",
   "execution_count": 4,
   "outputs": [
    {
     "data": {
      "text/plain": "Dataset({\n    features: ['Publication Number', 'Title', 'Abstract', 'Claims', 'Publication Date', 'CPC', 'Novelty', 'Purpose', 'Advantage', 'Patentee', 'Inventor', 'UPC', 'Cited Number', 'Citing Number', 'Family Number', 'Strategic Importance', 'Field Importance', 'Comprehensive Importance'],\n    num_rows: 55120\n})"
     },
     "execution_count": 4,
     "metadata": {},
     "output_type": "execute_result"
    }
   ],
   "source": [
    "patent_data = Dataset.load_from_disk(patent_path)\n",
    "patent_data"
   ],
   "metadata": {
    "collapsed": false,
    "ExecuteTime": {
     "end_time": "2024-11-07T09:41:26.154555Z",
     "start_time": "2024-11-07T09:41:26.101869Z"
    }
   },
   "id": "3bff4fa7156b0b15"
  },
  {
   "cell_type": "markdown",
   "source": [
    "## 原始数据"
   ],
   "metadata": {
    "collapsed": false
   },
   "id": "4e7b987684ee02a5"
  },
  {
   "cell_type": "code",
   "execution_count": 5,
   "outputs": [],
   "source": [
    "patent_raw = [(cpc,time[:4]) for cpc,time in zip(patent_data['CPC'],patent_data['Publication Date'])]"
   ],
   "metadata": {
    "collapsed": false,
    "ExecuteTime": {
     "end_time": "2024-11-07T09:41:26.500066Z",
     "start_time": "2024-11-07T09:41:26.170925Z"
    }
   },
   "id": "6956c62c8dd93739"
  },
  {
   "cell_type": "code",
   "execution_count": 6,
   "outputs": [],
   "source": [
    "all_cpc = []\n",
    "for cpc,_ in patent_raw:\n",
    "    all_cpc.extend(cpc)\n",
    "all_cpc = set(all_cpc)\n",
    "all_time = set([time for _,time in patent_raw])"
   ],
   "metadata": {
    "collapsed": false,
    "ExecuteTime": {
     "end_time": "2024-11-07T09:41:26.528309Z",
     "start_time": "2024-11-07T09:41:26.521720Z"
    }
   },
   "id": "69edc0353fac8453"
  },
  {
   "cell_type": "code",
   "execution_count": 7,
   "outputs": [
    {
     "data": {
      "text/plain": "(27496,\n {'1999',\n  '2000',\n  '2001',\n  '2003',\n  '2004',\n  '2005',\n  '2006',\n  '2007',\n  '2008',\n  '2009',\n  '2010',\n  '2011',\n  '2012',\n  '2013',\n  '2014',\n  '2015',\n  '2016',\n  '2017',\n  '2018',\n  '2019',\n  '2020',\n  '2021',\n  '2022',\n  '2023',\n  '2024'})"
     },
     "execution_count": 7,
     "metadata": {},
     "output_type": "execute_result"
    }
   ],
   "source": [
    "len(all_cpc),all_time"
   ],
   "metadata": {
    "collapsed": false,
    "ExecuteTime": {
     "end_time": "2024-11-07T09:41:26.531844Z",
     "start_time": "2024-11-07T09:41:26.527192Z"
    }
   },
   "id": "c28d58f39ba30a2c"
  },
  {
   "cell_type": "markdown",
   "source": [
    "## 分段数据"
   ],
   "metadata": {
    "collapsed": false
   },
   "id": "13630e76c303913a"
  },
  {
   "cell_type": "code",
   "execution_count": 8,
   "outputs": [],
   "source": [
    "train_input_cpc = [cpc for cpc,time in patent_raw if time <= '2021']\n",
    "train_output_cpc = [cpc for cpc,time in patent_raw if time == '2022']"
   ],
   "metadata": {
    "collapsed": false,
    "ExecuteTime": {
     "end_time": "2024-11-07T09:41:26.544585Z",
     "start_time": "2024-11-07T09:41:26.541697Z"
    }
   },
   "id": "e24be5fcfdd57aec"
  },
  {
   "cell_type": "code",
   "execution_count": 9,
   "outputs": [],
   "source": [
    "test_input_cpc = [cpc for cpc,time in patent_raw if time <= '2022']\n",
    "test_output_cpc = [cpc for cpc,time in patent_raw if time == '2023']"
   ],
   "metadata": {
    "collapsed": false,
    "ExecuteTime": {
     "end_time": "2024-11-07T09:41:26.573325Z",
     "start_time": "2024-11-07T09:41:26.552916Z"
    }
   },
   "id": "30e155c970b0a5eb"
  },
  {
   "cell_type": "code",
   "execution_count": 10,
   "outputs": [],
   "source": [
    "all_input_cpc = [cpc for cpc,time in patent_raw]"
   ],
   "metadata": {
    "collapsed": false,
    "ExecuteTime": {
     "end_time": "2024-11-07T09:41:26.579417Z",
     "start_time": "2024-11-07T09:41:26.555180Z"
    }
   },
   "id": "f93dc5c75c3328c3"
  },
  {
   "cell_type": "markdown",
   "source": [
    "## 数据预处理"
   ],
   "metadata": {
    "collapsed": false
   },
   "id": "60abe6080c203d41"
  },
  {
   "cell_type": "code",
   "execution_count": 11,
   "outputs": [],
   "source": [
    "def edge_process(cpc_list):\n",
    "    ## 所有CPC\n",
    "    all_cpc_dict = {cpc:[] for cpc in all_cpc}\n",
    "    ## 专利CPC加入\n",
    "    for cpc in cpc_list:\n",
    "        for c in cpc:\n",
    "            all_cpc_dict[c].extend(cpc)\n",
    "    ## 去重\n",
    "    for cpc in all_cpc_dict:\n",
    "        all_cpc_dict[cpc] = list(set(all_cpc_dict[cpc]))\n",
    "        if cpc in all_cpc_dict[cpc]:\n",
    "            all_cpc_dict[cpc].remove(cpc)\n",
    "    return all_cpc_dict"
   ],
   "metadata": {
    "collapsed": false,
    "ExecuteTime": {
     "end_time": "2024-11-07T09:41:26.579630Z",
     "start_time": "2024-11-07T09:41:26.562815Z"
    }
   },
   "id": "eac2c9c6b44779e2"
  },
  {
   "cell_type": "code",
   "execution_count": 12,
   "outputs": [],
   "source": [
    "train_input_cpc_dict = edge_process(train_input_cpc)\n",
    "train_output_cpc_dict = edge_process(train_output_cpc)\n",
    "test_input_cpc_dict = edge_process(test_input_cpc)\n",
    "test_output_cpc_dict = edge_process(test_output_cpc)\n",
    "all_input_cpc_dict = edge_process(all_input_cpc)"
   ],
   "metadata": {
    "collapsed": false,
    "ExecuteTime": {
     "end_time": "2024-11-07T09:41:27.264313Z",
     "start_time": "2024-11-07T09:41:26.639621Z"
    }
   },
   "id": "a7900035685c41ea"
  },
  {
   "cell_type": "code",
   "execution_count": 13,
   "outputs": [],
   "source": [
    "raw_datasets = [\n",
    "    {'type': 'train_input', 'data':train_input_cpc_dict},\n",
    "    {'type': 'train_label', 'data':train_output_cpc_dict},\n",
    "    {'type': 'test_input', 'data':test_input_cpc_dict},\n",
    "    {'type': 'test_label', 'data':test_output_cpc_dict},\n",
    "    {'type': 'all_input', 'data':all_input_cpc_dict}\n",
    "]"
   ],
   "metadata": {
    "collapsed": false,
    "ExecuteTime": {
     "end_time": "2024-11-07T09:41:27.266641Z",
     "start_time": "2024-11-07T09:41:27.263225Z"
    }
   },
   "id": "18d6a57a0065a585"
  },
  {
   "cell_type": "code",
   "execution_count": 14,
   "outputs": [],
   "source": [
    "raw_datasets = Dataset.from_list(raw_datasets)"
   ],
   "metadata": {
    "collapsed": false,
    "ExecuteTime": {
     "end_time": "2024-11-07T09:41:47.757229Z",
     "start_time": "2024-11-07T09:41:27.269084Z"
    }
   },
   "id": "178d0a0dd2214366"
  },
  {
   "cell_type": "code",
   "execution_count": 15,
   "outputs": [
    {
     "data": {
      "text/plain": "Saving the dataset (0/1 shards):   0%|          | 0/5 [00:00<?, ? examples/s]",
      "application/vnd.jupyter.widget-view+json": {
       "version_major": 2,
       "version_minor": 0,
       "model_id": "2665926292dd4f46b1627b0b4b06f502"
      }
     },
     "metadata": {},
     "output_type": "display_data"
    }
   ],
   "source": [
    "raw_datasets.save_to_disk(\"RawData\")"
   ],
   "metadata": {
    "collapsed": false,
    "ExecuteTime": {
     "end_time": "2024-11-07T09:41:53.053127Z",
     "start_time": "2024-11-07T09:41:47.756637Z"
    }
   },
   "id": "12a7d66615a83454"
  },
  {
   "cell_type": "markdown",
   "source": [
    "## 训练/测试数据"
   ],
   "metadata": {
    "collapsed": false
   },
   "id": "7e923b700f963dd7"
  },
  {
   "cell_type": "code",
   "execution_count": 16,
   "outputs": [],
   "source": [
    "def process_edge(cpc_dict):\n",
    "    edges = []\n",
    "    for cpc in cpc_dict:\n",
    "        for c in cpc_dict[cpc]:\n",
    "            edges.append((cpc,c))\n",
    "    return edges"
   ],
   "metadata": {
    "collapsed": false,
    "ExecuteTime": {
     "end_time": "2024-11-07T09:41:53.055644Z",
     "start_time": "2024-11-07T09:41:53.054001Z"
    }
   },
   "id": "4d6a7db28beaafca"
  },
  {
   "cell_type": "code",
   "execution_count": 17,
   "outputs": [],
   "source": [
    "def unprecedented_edge(history_edge, new_edge):\n",
    "    new_edge_set = set(new_edge)\n",
    "    history_edge_set = set(history_edge)\n",
    "    ## 前所为有\n",
    "    # unpreced_edges = new_edge_set - history_edge_set\n",
    "    ## 所有\n",
    "    unpreced_edges = new_edge_set\n",
    "    \n",
    "    unpreced_cpc_dict = {}\n",
    "    for edge in unpreced_edges:\n",
    "        src = edge[0]\n",
    "        dst = edge[1]\n",
    "        if src not in unpreced_cpc_dict:\n",
    "            unpreced_cpc_dict[src] = []\n",
    "        unpreced_cpc_dict[src].append(dst)\n",
    "    \n",
    "    pos = list(unpreced_edges)\n",
    "    neg = []\n",
    "    for cpc in unpreced_cpc_dict:\n",
    "        neg_cpc = list(all_cpc - set(unpreced_cpc_dict[cpc]))\n",
    "        for c in random.sample(neg_cpc,len(unpreced_cpc_dict[cpc])):\n",
    "            neg.append((cpc,c))\n",
    "    \n",
    "    return pos, neg"
   ],
   "metadata": {
    "collapsed": false,
    "ExecuteTime": {
     "end_time": "2024-11-07T09:41:53.061963Z",
     "start_time": "2024-11-07T09:41:53.057200Z"
    }
   },
   "id": "66fb0006ab73d5f2"
  },
  {
   "cell_type": "code",
   "execution_count": 18,
   "outputs": [],
   "source": [
    "def compute_feature(edge_tuple, cpc_dict):\n",
    "    src = edge_tuple[0]\n",
    "    dst = edge_tuple[1]\n",
    "    src_neigh = set(cpc_dict[src])\n",
    "    dst_neigh = set(cpc_dict[dst])\n",
    "    z_list = src_neigh & dst_neigh\n",
    "    \n",
    "    cn = len(z_list)\n",
    "    jc = cn / len(src_neigh | dst_neigh) if len(src_neigh | dst_neigh) != 0 else 0\n",
    "    ss = 2 * cn / (len(src_neigh) + len(dst_neigh)) if len(src_neigh) + len(dst_neigh) != 0 else 0\n",
    "    st = cn / math.sqrt(len(src_neigh) * len(dst_neigh)) if len(src_neigh) * len(dst_neigh) != 0 else 0\n",
    "    hp = cn / min(len(src_neigh), len(dst_neigh)) if min(len(src_neigh), len(dst_neigh)) != 0 else 0\n",
    "    hd = cn / max(len(src_neigh), len(dst_neigh)) if max(len(src_neigh), len(dst_neigh)) != 0 else 0\n",
    "    lhn = cn / len(src_neigh)*len(dst_neigh) if len(src_neigh)*len(dst_neigh) != 0 else 0\n",
    "    pa = len(src_neigh) * len(dst_neigh)\n",
    "    \n",
    "    aa = 0\n",
    "    ra = 0\n",
    "    if z_list:\n",
    "        for z in z_list:\n",
    "            aa += 1 / math.log(len(cpc_dict[z])) if len(cpc_dict[z]) > 1 else 0\n",
    "            ra += 1 / len(cpc_dict[z])\n",
    "    \n",
    "    return cn,jc,ss,st,hp,hd,lhn,pa,aa,ra"
   ],
   "metadata": {
    "collapsed": false,
    "ExecuteTime": {
     "end_time": "2024-11-07T09:41:53.064220Z",
     "start_time": "2024-11-07T09:41:53.062170Z"
    }
   },
   "id": "65253e64bafea4fa"
  },
  {
   "cell_type": "code",
   "execution_count": 19,
   "outputs": [],
   "source": [
    "def make_dataset(history_dict, last_dict):\n",
    "    pos,neg = unprecedented_edge(process_edge(history_dict), process_edge(last_dict))\n",
    "    pos_feature = [compute_feature(edge, history_dict) for edge in tqdm(pos)]\n",
    "    neg_feature = [compute_feature(edge, history_dict) for edge in tqdm(neg)]\n",
    "    pos_label = [1 for _ in pos]\n",
    "    neg_label = [0 for _ in neg]\n",
    "    edges = pos + neg\n",
    "    features = pos_feature + neg_feature\n",
    "    labels = pos_label + neg_label\n",
    "    return edges,features,labels"
   ],
   "metadata": {
    "collapsed": false,
    "ExecuteTime": {
     "end_time": "2024-11-07T09:41:53.066187Z",
     "start_time": "2024-11-07T09:41:53.064974Z"
    }
   },
   "id": "238264af96f72393"
  },
  {
   "cell_type": "code",
   "execution_count": 20,
   "outputs": [
    {
     "name": "stderr",
     "output_type": "stream",
     "text": [
      "100%|██████████| 366648/366648 [00:35<00:00, 10414.49it/s]\n",
      "100%|██████████| 366648/366648 [00:05<00:00, 63802.07it/s] \n"
     ]
    }
   ],
   "source": [
    "train_edges,train_features,train_labels = make_dataset(train_input_cpc_dict,train_output_cpc_dict)"
   ],
   "metadata": {
    "collapsed": false,
    "ExecuteTime": {
     "end_time": "2024-11-07T09:42:44.162395Z",
     "start_time": "2024-11-07T09:41:53.116412Z"
    }
   },
   "id": "8914fd9f5f4c1b58"
  },
  {
   "cell_type": "code",
   "execution_count": 21,
   "outputs": [
    {
     "name": "stderr",
     "output_type": "stream",
     "text": [
      "100%|██████████| 357074/357074 [00:41<00:00, 8707.31it/s]\n",
      "100%|██████████| 357074/357074 [00:06<00:00, 51882.98it/s] \n"
     ]
    }
   ],
   "source": [
    "test_edges,test_features,test_labels = make_dataset(test_input_cpc_dict,test_output_cpc_dict)"
   ],
   "metadata": {
    "collapsed": false,
    "ExecuteTime": {
     "end_time": "2024-11-07T09:43:42.202527Z",
     "start_time": "2024-11-07T09:42:44.239424Z"
    }
   },
   "id": "10c1973c10181d70"
  },
  {
   "cell_type": "code",
   "execution_count": 22,
   "outputs": [],
   "source": [
    "train_data = []\n",
    "for edge,feature,label in zip(train_edges,train_features,train_labels):\n",
    "    train_data.append({'edge':edge,'feature':feature,'label':label})"
   ],
   "metadata": {
    "collapsed": false,
    "ExecuteTime": {
     "end_time": "2024-11-07T09:43:42.486503Z",
     "start_time": "2024-11-07T09:43:42.278099Z"
    }
   },
   "id": "48861f816b9350a1"
  },
  {
   "cell_type": "code",
   "execution_count": 23,
   "outputs": [],
   "source": [
    "test_data = []\n",
    "for edge,feature,label in zip(test_edges,test_features,test_labels):\n",
    "    test_data.append({'edge':edge,'feature':feature,'label':label})"
   ],
   "metadata": {
    "collapsed": false,
    "ExecuteTime": {
     "end_time": "2024-11-07T09:43:42.666989Z",
     "start_time": "2024-11-07T09:43:42.554925Z"
    }
   },
   "id": "9b03fddfe3d0fbad"
  },
  {
   "cell_type": "markdown",
   "source": [
    "## 保存数据"
   ],
   "metadata": {
    "collapsed": false
   },
   "id": "e79efd2410a8b32e"
  },
  {
   "cell_type": "code",
   "execution_count": 24,
   "outputs": [],
   "source": [
    "train_datasets = Dataset.from_list(train_data)\n",
    "test_datasets = Dataset.from_list(test_data)"
   ],
   "metadata": {
    "collapsed": false,
    "ExecuteTime": {
     "end_time": "2024-11-07T09:43:44.589024Z",
     "start_time": "2024-11-07T09:43:42.697739Z"
    }
   },
   "id": "f41ff6137fd85950"
  },
  {
   "cell_type": "code",
   "execution_count": 25,
   "outputs": [
    {
     "data": {
      "text/plain": "Saving the dataset (0/1 shards):   0%|          | 0/733296 [00:00<?, ? examples/s]",
      "application/vnd.jupyter.widget-view+json": {
       "version_major": 2,
       "version_minor": 0,
       "model_id": "167d12685a1f42cd9e6f03048590a2b1"
      }
     },
     "metadata": {},
     "output_type": "display_data"
    },
    {
     "data": {
      "text/plain": "Saving the dataset (0/1 shards):   0%|          | 0/714148 [00:00<?, ? examples/s]",
      "application/vnd.jupyter.widget-view+json": {
       "version_major": 2,
       "version_minor": 0,
       "model_id": "e475ce76e5d34b1f84735cc0705ddaa1"
      }
     },
     "metadata": {},
     "output_type": "display_data"
    }
   ],
   "source": [
    "train_datasets.save_to_disk(\"TrainData\")\n",
    "test_datasets.save_to_disk(\"TestData\")"
   ],
   "metadata": {
    "collapsed": false,
    "ExecuteTime": {
     "end_time": "2024-11-07T09:43:44.902205Z",
     "start_time": "2024-11-07T09:43:44.587683Z"
    }
   },
   "id": "39f7e7c08b78b714"
  }
 ],
 "metadata": {
  "kernelspec": {
   "display_name": "Python 3",
   "language": "python",
   "name": "python3"
  },
  "language_info": {
   "codemirror_mode": {
    "name": "ipython",
    "version": 2
   },
   "file_extension": ".py",
   "mimetype": "text/x-python",
   "name": "python",
   "nbconvert_exporter": "python",
   "pygments_lexer": "ipython2",
   "version": "2.7.6"
  }
 },
 "nbformat": 4,
 "nbformat_minor": 5
}
